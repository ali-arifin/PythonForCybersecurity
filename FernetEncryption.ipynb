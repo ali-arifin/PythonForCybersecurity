{
 "cells": [
  {
   "cell_type": "markdown",
   "id": "c7cbd0d0",
   "metadata": {},
   "source": [
    "**Symmetric Encryption using Fernet**\n",
    "\n",
    "*The same key is used to encrypt and decrypt data*"
   ]
  },
  {
   "cell_type": "code",
   "execution_count": 23,
   "id": "ad56ea3f",
   "metadata": {},
   "outputs": [
    {
     "name": "stdout",
     "output_type": "stream",
     "text": [
      "Encrypted: b'gAAAAABovCzzuBWOiU7C6PLnzzs6t6NKljs__ogJrs9tTTO8iYRLKqvJ6TdG6pXuHhS-Ut7koroIEak3ce68TrdEx1mog8E8XzikJ4GmJiWSut6dbfjg7cI='\n",
      "Decrypted: My sensitive data\n"
     ]
    }
   ],
   "source": [
    "from cryptography.fernet import Fernet\n",
    "\n",
    "# Step 1: Generate and store a key\n",
    "key = Fernet.generate_key()\n",
    "cipher_suite = Fernet(key)\n",
    "\n",
    "# Step 2: Encrypt\n",
    "data = b\"My sensitive data\"\n",
    "cipher_text = cipher_suite.encrypt(data)\n",
    "print(f\"Encrypted: {cipher_text}\")\n",
    "\n",
    "# Step 3: Decrypt\n",
    "decrypted = cipher_suite.decrypt(cipher_text)\n",
    "print(f\"Decrypted: {decrypted.decode()}\")"
   ]
  }
 ],
 "metadata": {
  "kernelspec": {
   "display_name": "Python 3",
   "language": "python",
   "name": "python3"
  },
  "language_info": {
   "codemirror_mode": {
    "name": "ipython",
    "version": 3
   },
   "file_extension": ".py",
   "mimetype": "text/x-python",
   "name": "python",
   "nbconvert_exporter": "python",
   "pygments_lexer": "ipython3",
   "version": "3.10.11"
  }
 },
 "nbformat": 4,
 "nbformat_minor": 5
}
