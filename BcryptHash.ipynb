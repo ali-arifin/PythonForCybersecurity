{
 "cells": [
  {
   "cell_type": "markdown",
   "id": "94a9b98f",
   "metadata": {},
   "source": [
    "**Bcrypt module** provides secure password hashing"
   ]
  },
  {
   "cell_type": "code",
   "execution_count": 4,
   "id": "8bc788ad",
   "metadata": {},
   "outputs": [
    {
     "name": "stdout",
     "output_type": "stream",
     "text": [
      "Password is valid!\n"
     ]
    }
   ],
   "source": [
    "import bcrypt\n",
    "\n",
    "# Hash a password using bcrypt\n",
    "password = \"mypassword123\".encode('utf-8')      # encode to bytes\n",
    "hashed_password = bcrypt.hashpw(password, bcrypt.gensalt())\n",
    "\n",
    "# Verify a password against a hash\n",
    "if bcrypt.checkpw(password, hashed_password):\n",
    "    print(\"Password is valid!\")\n",
    "else:\n",
    "    print(\"Invalid password!\")"
   ]
  },
  {
   "cell_type": "markdown",
   "id": "8b72c57d",
   "metadata": {},
   "source": [
    "**bcrypt.gensalt()** generates a random salt, which is added to the password before hashing. This prevents rainbow table attacks.\n",
    "\n",
    "**bcrypt.hashpw()** combines the password and salt, then applies the bcrypt hashing algorithm."
   ]
  },
  {
   "cell_type": "code",
   "execution_count": 5,
   "id": "fd6d58c6",
   "metadata": {},
   "outputs": [
    {
     "data": {
      "text/plain": [
       "True"
      ]
     },
     "execution_count": 5,
     "metadata": {},
     "output_type": "execute_result"
    }
   ],
   "source": [
    "bcrypt.checkpw(password, hashed_password)"
   ]
  },
  {
   "cell_type": "code",
   "execution_count": 7,
   "id": "0585e578",
   "metadata": {},
   "outputs": [
    {
     "data": {
      "text/plain": [
       "False"
      ]
     },
     "execution_count": 7,
     "metadata": {},
     "output_type": "execute_result"
    }
   ],
   "source": [
    "bcrypt.checkpw(\"mypassword1234\".encode('utf-8'), hashed_password)"
   ]
  }
 ],
 "metadata": {
  "kernelspec": {
   "display_name": "Python 3",
   "language": "python",
   "name": "python3"
  },
  "language_info": {
   "codemirror_mode": {
    "name": "ipython",
    "version": 3
   },
   "file_extension": ".py",
   "mimetype": "text/x-python",
   "name": "python",
   "nbconvert_exporter": "python",
   "pygments_lexer": "ipython3",
   "version": "3.10.11"
  }
 },
 "nbformat": 4,
 "nbformat_minor": 5
}
